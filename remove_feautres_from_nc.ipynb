{
 "cells": [
  {
   "cell_type": "code",
   "execution_count": 1,
   "metadata": {},
   "outputs": [],
   "source": [
    "import xarray as xr\n",
    "import numpy as np\n",
    "\n",
    "# trained on >100 epochs of 60/600 (20181127-20190927)\n",
    "#voodoo_nc = '20190801-20190801-20201017-174440__20201017-174440_weights.h5.nc'\n",
    "voodoo_nc = '20190313-20190313-20201017-174440__20201017-174440_weights.h5.nc'\n"
   ]
  },
  {
   "cell_type": "code",
   "execution_count": 2,
   "metadata": {},
   "outputs": [
    {
     "name": "stdout",
     "output_type": "stream",
     "text": [
      "<xarray.Dataset>\n",
      "Dimensions:                                       (cl: 9, dt: 2882, nchannels: 6, nsamples: 188320, nvelocity: 256, rg: 292, ts: 2882)\n",
      "Coordinates:\n",
      "  * ts                                            (ts) float64 1.552e+09 ... 1.553e+09\n",
      "  * dt                                            (dt) datetime64[ns] 2019-03-13T00:00:15.000001 ... 2019-03-14T00:00:15.000001\n",
      "  * rg                                            (rg) float64 119.2 ... 1.196e+04\n",
      "  * nsamples                                      (nsamples) int64 0 ... 188319\n",
      "  * nvelocity                                     (nvelocity) int64 0 1 ... 255\n",
      "  * nchannels                                     (nchannels) int64 0 1 2 3 4 5\n",
      "  * cl                                            (cl) int64 0 1 2 3 4 5 6 7 8\n",
      "Data variables:\n",
      "    features                                      (nsamples, nvelocity, nchannels) float32 dask.array<shape=(188320, 256, 6), chunksize=(188320, 256, 6)>\n",
      "    targets                                       (nsamples) float32 dask.array<shape=(188320,), chunksize=(188320,)>\n",
      "    mask_nc                                       (ts, rg) bool dask.array<shape=(2882, 292), chunksize=(2882, 292)>\n",
      "    mask                                          (ts, rg) bool dask.array<shape=(2882, 292), chunksize=(2882, 292)>\n",
      "    temperature                                   (ts, rg) float64 dask.array<shape=(2882, 292), chunksize=(2882, 292)>\n",
      "    pressure                                      (ts, rg) float64 dask.array<shape=(2882, 292), chunksize=(2882, 292)>\n",
      "    q                                             (ts, rg) float64 dask.array<shape=(2882, 292), chunksize=(2882, 292)>\n",
      "    uwind                                         (ts, rg) float64 dask.array<shape=(2882, 292), chunksize=(2882, 292)>\n",
      "    vwind                                         (ts, rg) float64 dask.array<shape=(2882, 292), chunksize=(2882, 292)>\n",
      "    insect_prob                                   (ts, rg) float32 dask.array<shape=(2882, 292), chunksize=(2882, 292)>\n",
      "    detection_status                              (ts, rg) int32 dask.array<shape=(2882, 292), chunksize=(2882, 292)>\n",
      "    target_classification                         (ts, rg) int32 dask.array<shape=(2882, 292), chunksize=(2882, 292)>\n",
      "    Z                                             (ts, rg) float32 dask.array<shape=(2882, 292), chunksize=(2882, 292)>\n",
      "    VEL                                           (ts, rg) float32 dask.array<shape=(2882, 292), chunksize=(2882, 292)>\n",
      "    VEL_sigma                                     (ts, rg) float32 dask.array<shape=(2882, 292), chunksize=(2882, 292)>\n",
      "    width                                         (ts, rg) float32 dask.array<shape=(2882, 292), chunksize=(2882, 292)>\n",
      "    beta                                          (ts, rg) float32 dask.array<shape=(2882, 292), chunksize=(2882, 292)>\n",
      "    attbsc532                                     (ts, rg) float64 dask.array<shape=(2882, 292), chunksize=(2882, 292)>\n",
      "    depol                                         (ts, rg) float64 dask.array<shape=(2882, 292), chunksize=(2882, 292)>\n",
      "    voodoo_classification                         (ts, rg) float32 dask.array<shape=(2882, 292), chunksize=(2882, 292)>\n",
      "    voodoo_classification_post                    (ts, rg) float32 dask.array<shape=(2882, 292), chunksize=(2882, 292)>\n",
      "    voodoo_classification_probabilities           (ts, rg, cl) float32 dask.array<shape=(2882, 292, 9), chunksize=(2882, 292, 9)>\n",
      "    voodoo_classification_smoothed                (ts, rg) int64 dask.array<shape=(2882, 292), chunksize=(2882, 292)>\n",
      "    voodoo_classification_probabilities_smoothed  (ts, rg, cl) float64 dask.array<shape=(2882, 292, 9), chunksize=(2882, 292, 9)>\n",
      "    lwp                                           (ts) float32 dask.array<shape=(2882,), chunksize=(2882,)>\n",
      "    cloudnet_droplet_mask                         (ts, rg) bool dask.array<shape=(2882, 292), chunksize=(2882, 292)>\n",
      "    voodoo_droplet_mask                           (ts, rg) bool dask.array<shape=(2882, 292), chunksize=(2882, 292)>\n",
      "    llt_cloudnet_raw                              (ts) float64 dask.array<shape=(2882,), chunksize=(2882,)>\n",
      "    llt_voodoo_raw                                (ts) float64 dask.array<shape=(2882,), chunksize=(2882,)>\n",
      "    mask_proc                                     (ts, rg) bool dask.array<shape=(2882, 292), chunksize=(2882, 292)>\n",
      "    voodoo_droplet_mask_proc                      (ts, rg) bool dask.array<shape=(2882, 292), chunksize=(2882, 292)>\n",
      "    llt_voodoo_proc                               (ts) float64 dask.array<shape=(2882,), chunksize=(2882,)>\n",
      "Attributes:\n",
      "    ts_unit:         sec\n",
      "    ts_unit_long:    Unix time, seconds since Jan 1. 1979\n",
      "    dt_unit:         date\n",
      "    dt_unit_long:    Datetime format\n",
      "    rg_unit:         m\n",
      "    rg_unit_long:    Meter\n",
      "    nsamples:        Number of samples\n",
      "    nsamples_unit:   -\n",
      "    nvelocity:       Number of velocity bins\n",
      "    nvelocity_unit:  -\n",
      "    nchannels:       Number of stacked spectra\n",
      "    nchannels_unit:  -\n",
      "    cl:              Number of Cloudnet Classes\n",
      "    cl_unit:         -\n"
     ]
    }
   ],
   "source": [
    "# open the dataset using xarray\n",
    "voodoo_xr = xr.open_mfdataset(f'data/{voodoo_nc}')\n",
    "\n",
    "T = voodoo_xr.temperature.copy()\n",
    "p = voodoo_xr.pressure.copy()\n",
    "T['var_unit'] = \"C\"\n",
    "p['var_unit'] = 'hPa'\n",
    "q = voodoo_xr.q.copy()\n",
    "\n",
    "def spechum2relhum(q, T, P):\n",
    "    Ttmp = T + 273.15\n",
    "    T0 = 273.16  # Kelvin\n",
    "    return 0.263 * P * q / np.exp(17.67 * (Ttmp - T0) / (Ttmp - 29.65))\n",
    "\n",
    "\n",
    "T = T -  273.15\n",
    "p = p / 100.0\n",
    "q.values = spechum2relhum(q.values, T.values, p.values) * 100.0\n",
    "\n",
    "contour_T = {'data': T, 'levels': np.arange(-40, 16, 5)}\n",
    "contour_p = {'data': p, 'levels': np.arange(500, 1000, 50)}\n",
    "contour_q = {'data': q, 'levels': np.arange(70, 105, 5)}\n",
    "\n",
    "print(voodoo_xr)"
   ]
  },
  {
   "cell_type": "code",
   "execution_count": 4,
   "metadata": {},
   "outputs": [
    {
     "ename": "PermissionError",
     "evalue": "[Errno 13] Permission denied: b'/Users/willi/code/python/local_stuff/voodoo_quicklooks/data/20190313-20190313-20201017-174440__20201017-174440_weights_compressed.h5.nc'",
     "output_type": "error",
     "traceback": [
      "\u001B[0;31m---------------------------------------------------------------------------\u001B[0m",
      "\u001B[0;31mKeyError\u001B[0m                                  Traceback (most recent call last)",
      "\u001B[0;32m~/anaconda3/lib/python3.6/site-packages/xarray/backends/file_manager.py\u001B[0m in \u001B[0;36macquire\u001B[0;34m(self)\u001B[0m\n\u001B[1;32m    136\u001B[0m             \u001B[0;32mtry\u001B[0m\u001B[0;34m:\u001B[0m\u001B[0;34m\u001B[0m\u001B[0;34m\u001B[0m\u001B[0m\n\u001B[0;32m--> 137\u001B[0;31m                 \u001B[0mfile\u001B[0m \u001B[0;34m=\u001B[0m \u001B[0mself\u001B[0m\u001B[0;34m.\u001B[0m\u001B[0m_cache\u001B[0m\u001B[0;34m[\u001B[0m\u001B[0mself\u001B[0m\u001B[0;34m.\u001B[0m\u001B[0m_key\u001B[0m\u001B[0;34m]\u001B[0m\u001B[0;34m\u001B[0m\u001B[0;34m\u001B[0m\u001B[0m\n\u001B[0m\u001B[1;32m    138\u001B[0m             \u001B[0;32mexcept\u001B[0m \u001B[0mKeyError\u001B[0m\u001B[0;34m:\u001B[0m\u001B[0;34m\u001B[0m\u001B[0;34m\u001B[0m\u001B[0m\n",
      "\u001B[0;32m~/anaconda3/lib/python3.6/site-packages/xarray/backends/lru_cache.py\u001B[0m in \u001B[0;36m__getitem__\u001B[0;34m(self, key)\u001B[0m\n\u001B[1;32m     42\u001B[0m         \u001B[0;32mwith\u001B[0m \u001B[0mself\u001B[0m\u001B[0;34m.\u001B[0m\u001B[0m_lock\u001B[0m\u001B[0;34m:\u001B[0m\u001B[0;34m\u001B[0m\u001B[0;34m\u001B[0m\u001B[0m\n\u001B[0;32m---> 43\u001B[0;31m             \u001B[0mvalue\u001B[0m \u001B[0;34m=\u001B[0m \u001B[0mself\u001B[0m\u001B[0;34m.\u001B[0m\u001B[0m_cache\u001B[0m\u001B[0;34m[\u001B[0m\u001B[0mkey\u001B[0m\u001B[0;34m]\u001B[0m\u001B[0;34m\u001B[0m\u001B[0;34m\u001B[0m\u001B[0m\n\u001B[0m\u001B[1;32m     44\u001B[0m             \u001B[0mmove_to_end\u001B[0m\u001B[0;34m(\u001B[0m\u001B[0mself\u001B[0m\u001B[0;34m.\u001B[0m\u001B[0m_cache\u001B[0m\u001B[0;34m,\u001B[0m \u001B[0mkey\u001B[0m\u001B[0;34m)\u001B[0m\u001B[0;34m\u001B[0m\u001B[0;34m\u001B[0m\u001B[0m\n",
      "\u001B[0;31mKeyError\u001B[0m: [<function _open_netcdf4_group at 0x7fcc06190620>, ('/Users/willi/code/python/local_stuff/voodoo_quicklooks/data/20190313-20190313-20201017-174440__20201017-174440_weights_compressed.h5.nc', CombinedLock([<SerializableLock: f9f7428f-417f-4a4d-bdf0-4bff28a81e51>, <unlocked _thread.lock object at 0x7fcbeeb1c030>, <SerializableLock: 67baf1c2-f4f4-47c5-a34c-0a9db739ddca>])), 'w', (('clobber', True), ('diskless', False), ('format', 'NETCDF4'), ('group', None), ('persist', False))]",
      "\nDuring handling of the above exception, another exception occurred:\n",
      "\u001B[0;31mPermissionError\u001B[0m                           Traceback (most recent call last)",
      "\u001B[0;32m<ipython-input-4-3413313f8539>\u001B[0m in \u001B[0;36m<module>\u001B[0;34m\u001B[0m\n\u001B[1;32m     16\u001B[0m \u001B[0mprobs\u001B[0m\u001B[0;34m[\u001B[0m\u001B[0;34m'mask'\u001B[0m\u001B[0;34m]\u001B[0m \u001B[0;34m=\u001B[0m \u001B[0;34m(\u001B[0m \u001B[0;34m(\u001B[0m\u001B[0;34m'ts'\u001B[0m\u001B[0;34m,\u001B[0m \u001B[0;34m'rg'\u001B[0m\u001B[0;34m)\u001B[0m\u001B[0;34m,\u001B[0m \u001B[0mvoodoo_xr\u001B[0m\u001B[0;34m.\u001B[0m\u001B[0mmask\u001B[0m\u001B[0;34m.\u001B[0m\u001B[0mcopy\u001B[0m\u001B[0;34m(\u001B[0m\u001B[0;34m)\u001B[0m\u001B[0;34m)\u001B[0m\u001B[0;34m\u001B[0m\u001B[0;34m\u001B[0m\u001B[0m\n\u001B[1;32m     17\u001B[0m \u001B[0mprobs\u001B[0m\u001B[0;34m[\u001B[0m\u001B[0;34m'lwp'\u001B[0m\u001B[0;34m]\u001B[0m \u001B[0;34m=\u001B[0m \u001B[0;34m(\u001B[0m \u001B[0;34m(\u001B[0m\u001B[0;34m'ts'\u001B[0m\u001B[0;34m)\u001B[0m\u001B[0;34m,\u001B[0m \u001B[0mvoodoo_xr\u001B[0m\u001B[0;34m.\u001B[0m\u001B[0mlwp\u001B[0m\u001B[0;34m.\u001B[0m\u001B[0mcopy\u001B[0m\u001B[0;34m(\u001B[0m\u001B[0;34m)\u001B[0m\u001B[0;34m)\u001B[0m\u001B[0;34m\u001B[0m\u001B[0;34m\u001B[0m\u001B[0m\n\u001B[0;32m---> 18\u001B[0;31m \u001B[0mprobs\u001B[0m\u001B[0;34m.\u001B[0m\u001B[0mto_netcdf\u001B[0m\u001B[0;34m(\u001B[0m\u001B[0;34mf\"data/{voodoo_nc.replace('.h5.nc', '_compressed.h5.nc')}\"\u001B[0m\u001B[0;34m)\u001B[0m\u001B[0;34m\u001B[0m\u001B[0;34m\u001B[0m\u001B[0m\n\u001B[0m\u001B[1;32m     19\u001B[0m \u001B[0;34m\u001B[0m\u001B[0m\n",
      "\u001B[0;32m~/anaconda3/lib/python3.6/site-packages/xarray/core/dataarray.py\u001B[0m in \u001B[0;36mto_netcdf\u001B[0;34m(self, *args, **kwargs)\u001B[0m\n\u001B[1;32m   1746\u001B[0m             \u001B[0mdataset\u001B[0m \u001B[0;34m=\u001B[0m \u001B[0mself\u001B[0m\u001B[0;34m.\u001B[0m\u001B[0mto_dataset\u001B[0m\u001B[0;34m(\u001B[0m\u001B[0;34m)\u001B[0m\u001B[0;34m\u001B[0m\u001B[0;34m\u001B[0m\u001B[0m\n\u001B[1;32m   1747\u001B[0m \u001B[0;34m\u001B[0m\u001B[0m\n\u001B[0;32m-> 1748\u001B[0;31m         \u001B[0;32mreturn\u001B[0m \u001B[0mdataset\u001B[0m\u001B[0;34m.\u001B[0m\u001B[0mto_netcdf\u001B[0m\u001B[0;34m(\u001B[0m\u001B[0;34m*\u001B[0m\u001B[0margs\u001B[0m\u001B[0;34m,\u001B[0m \u001B[0;34m**\u001B[0m\u001B[0mkwargs\u001B[0m\u001B[0;34m)\u001B[0m\u001B[0;34m\u001B[0m\u001B[0;34m\u001B[0m\u001B[0m\n\u001B[0m\u001B[1;32m   1749\u001B[0m \u001B[0;34m\u001B[0m\u001B[0m\n\u001B[1;32m   1750\u001B[0m     \u001B[0;32mdef\u001B[0m \u001B[0mto_dict\u001B[0m\u001B[0;34m(\u001B[0m\u001B[0mself\u001B[0m\u001B[0;34m)\u001B[0m\u001B[0;34m:\u001B[0m\u001B[0;34m\u001B[0m\u001B[0;34m\u001B[0m\u001B[0m\n",
      "\u001B[0;32m~/anaconda3/lib/python3.6/site-packages/xarray/core/dataset.py\u001B[0m in \u001B[0;36mto_netcdf\u001B[0;34m(self, path, mode, format, group, engine, encoding, unlimited_dims, compute)\u001B[0m\n\u001B[1;32m   1220\u001B[0m                          \u001B[0mengine\u001B[0m\u001B[0;34m=\u001B[0m\u001B[0mengine\u001B[0m\u001B[0;34m,\u001B[0m \u001B[0mencoding\u001B[0m\u001B[0;34m=\u001B[0m\u001B[0mencoding\u001B[0m\u001B[0;34m,\u001B[0m\u001B[0;34m\u001B[0m\u001B[0;34m\u001B[0m\u001B[0m\n\u001B[1;32m   1221\u001B[0m                          \u001B[0munlimited_dims\u001B[0m\u001B[0;34m=\u001B[0m\u001B[0munlimited_dims\u001B[0m\u001B[0;34m,\u001B[0m\u001B[0;34m\u001B[0m\u001B[0;34m\u001B[0m\u001B[0m\n\u001B[0;32m-> 1222\u001B[0;31m                          compute=compute)\n\u001B[0m\u001B[1;32m   1223\u001B[0m \u001B[0;34m\u001B[0m\u001B[0m\n\u001B[1;32m   1224\u001B[0m     def to_zarr(self, store=None, mode='w-', synchronizer=None, group=None,\n",
      "\u001B[0;32m~/anaconda3/lib/python3.6/site-packages/xarray/backends/api.py\u001B[0m in \u001B[0;36mto_netcdf\u001B[0;34m(dataset, path_or_file, mode, format, group, engine, encoding, unlimited_dims, compute, multifile)\u001B[0m\n\u001B[1;32m    701\u001B[0m     \u001B[0mtarget\u001B[0m \u001B[0;34m=\u001B[0m \u001B[0mpath_or_file\u001B[0m \u001B[0;32mif\u001B[0m \u001B[0mpath_or_file\u001B[0m \u001B[0;32mis\u001B[0m \u001B[0;32mnot\u001B[0m \u001B[0;32mNone\u001B[0m \u001B[0;32melse\u001B[0m \u001B[0mBytesIO\u001B[0m\u001B[0;34m(\u001B[0m\u001B[0;34m)\u001B[0m\u001B[0;34m\u001B[0m\u001B[0;34m\u001B[0m\u001B[0m\n\u001B[1;32m    702\u001B[0m     \u001B[0mkwargs\u001B[0m \u001B[0;34m=\u001B[0m \u001B[0mdict\u001B[0m\u001B[0;34m(\u001B[0m\u001B[0mautoclose\u001B[0m\u001B[0;34m=\u001B[0m\u001B[0;32mTrue\u001B[0m\u001B[0;34m)\u001B[0m \u001B[0;32mif\u001B[0m \u001B[0mautoclose\u001B[0m \u001B[0;32melse\u001B[0m \u001B[0;34m{\u001B[0m\u001B[0;34m}\u001B[0m\u001B[0;34m\u001B[0m\u001B[0;34m\u001B[0m\u001B[0m\n\u001B[0;32m--> 703\u001B[0;31m     \u001B[0mstore\u001B[0m \u001B[0;34m=\u001B[0m \u001B[0mstore_open\u001B[0m\u001B[0;34m(\u001B[0m\u001B[0mtarget\u001B[0m\u001B[0;34m,\u001B[0m \u001B[0mmode\u001B[0m\u001B[0;34m,\u001B[0m \u001B[0mformat\u001B[0m\u001B[0;34m,\u001B[0m \u001B[0mgroup\u001B[0m\u001B[0;34m,\u001B[0m \u001B[0;34m**\u001B[0m\u001B[0mkwargs\u001B[0m\u001B[0;34m)\u001B[0m\u001B[0;34m\u001B[0m\u001B[0;34m\u001B[0m\u001B[0m\n\u001B[0m\u001B[1;32m    704\u001B[0m \u001B[0;34m\u001B[0m\u001B[0m\n\u001B[1;32m    705\u001B[0m     \u001B[0;32mif\u001B[0m \u001B[0munlimited_dims\u001B[0m \u001B[0;32mis\u001B[0m \u001B[0;32mNone\u001B[0m\u001B[0;34m:\u001B[0m\u001B[0;34m\u001B[0m\u001B[0;34m\u001B[0m\u001B[0m\n",
      "\u001B[0;32m~/anaconda3/lib/python3.6/site-packages/xarray/backends/netCDF4_.py\u001B[0m in \u001B[0;36mopen\u001B[0;34m(cls, filename, mode, format, group, clobber, diskless, persist, lock, lock_maker, autoclose)\u001B[0m\n\u001B[1;32m    353\u001B[0m             kwargs=dict(group=group, clobber=clobber, diskless=diskless,\n\u001B[1;32m    354\u001B[0m                         persist=persist, format=format))\n\u001B[0;32m--> 355\u001B[0;31m         \u001B[0;32mreturn\u001B[0m \u001B[0mcls\u001B[0m\u001B[0;34m(\u001B[0m\u001B[0mmanager\u001B[0m\u001B[0;34m,\u001B[0m \u001B[0mlock\u001B[0m\u001B[0;34m=\u001B[0m\u001B[0mlock\u001B[0m\u001B[0;34m,\u001B[0m \u001B[0mautoclose\u001B[0m\u001B[0;34m=\u001B[0m\u001B[0mautoclose\u001B[0m\u001B[0;34m)\u001B[0m\u001B[0;34m\u001B[0m\u001B[0;34m\u001B[0m\u001B[0m\n\u001B[0m\u001B[1;32m    356\u001B[0m \u001B[0;34m\u001B[0m\u001B[0m\n\u001B[1;32m    357\u001B[0m     \u001B[0;34m@\u001B[0m\u001B[0mproperty\u001B[0m\u001B[0;34m\u001B[0m\u001B[0;34m\u001B[0m\u001B[0m\n",
      "\u001B[0;32m~/anaconda3/lib/python3.6/site-packages/xarray/backends/netCDF4_.py\u001B[0m in \u001B[0;36m__init__\u001B[0;34m(self, manager, lock, autoclose)\u001B[0m\n\u001B[1;32m    312\u001B[0m \u001B[0;34m\u001B[0m\u001B[0m\n\u001B[1;32m    313\u001B[0m         \u001B[0mself\u001B[0m\u001B[0;34m.\u001B[0m\u001B[0m_manager\u001B[0m \u001B[0;34m=\u001B[0m \u001B[0mmanager\u001B[0m\u001B[0;34m\u001B[0m\u001B[0;34m\u001B[0m\u001B[0m\n\u001B[0;32m--> 314\u001B[0;31m         \u001B[0mself\u001B[0m\u001B[0;34m.\u001B[0m\u001B[0mformat\u001B[0m \u001B[0;34m=\u001B[0m \u001B[0mself\u001B[0m\u001B[0;34m.\u001B[0m\u001B[0mds\u001B[0m\u001B[0;34m.\u001B[0m\u001B[0mdata_model\u001B[0m\u001B[0;34m\u001B[0m\u001B[0;34m\u001B[0m\u001B[0m\n\u001B[0m\u001B[1;32m    315\u001B[0m         \u001B[0mself\u001B[0m\u001B[0;34m.\u001B[0m\u001B[0m_filename\u001B[0m \u001B[0;34m=\u001B[0m \u001B[0mself\u001B[0m\u001B[0;34m.\u001B[0m\u001B[0mds\u001B[0m\u001B[0;34m.\u001B[0m\u001B[0mfilepath\u001B[0m\u001B[0;34m(\u001B[0m\u001B[0;34m)\u001B[0m\u001B[0;34m\u001B[0m\u001B[0;34m\u001B[0m\u001B[0m\n\u001B[1;32m    316\u001B[0m         \u001B[0mself\u001B[0m\u001B[0;34m.\u001B[0m\u001B[0mis_remote\u001B[0m \u001B[0;34m=\u001B[0m \u001B[0mis_remote_uri\u001B[0m\u001B[0;34m(\u001B[0m\u001B[0mself\u001B[0m\u001B[0;34m.\u001B[0m\u001B[0m_filename\u001B[0m\u001B[0;34m)\u001B[0m\u001B[0;34m\u001B[0m\u001B[0;34m\u001B[0m\u001B[0m\n",
      "\u001B[0;32m~/anaconda3/lib/python3.6/site-packages/xarray/backends/netCDF4_.py\u001B[0m in \u001B[0;36mds\u001B[0;34m(self)\u001B[0m\n\u001B[1;32m    357\u001B[0m     \u001B[0;34m@\u001B[0m\u001B[0mproperty\u001B[0m\u001B[0;34m\u001B[0m\u001B[0;34m\u001B[0m\u001B[0m\n\u001B[1;32m    358\u001B[0m     \u001B[0;32mdef\u001B[0m \u001B[0mds\u001B[0m\u001B[0;34m(\u001B[0m\u001B[0mself\u001B[0m\u001B[0;34m)\u001B[0m\u001B[0;34m:\u001B[0m\u001B[0;34m\u001B[0m\u001B[0;34m\u001B[0m\u001B[0m\n\u001B[0;32m--> 359\u001B[0;31m         \u001B[0;32mreturn\u001B[0m \u001B[0mself\u001B[0m\u001B[0;34m.\u001B[0m\u001B[0m_manager\u001B[0m\u001B[0;34m.\u001B[0m\u001B[0macquire\u001B[0m\u001B[0;34m(\u001B[0m\u001B[0;34m)\u001B[0m\u001B[0;34m.\u001B[0m\u001B[0mvalue\u001B[0m\u001B[0;34m\u001B[0m\u001B[0;34m\u001B[0m\u001B[0m\n\u001B[0m\u001B[1;32m    360\u001B[0m \u001B[0;34m\u001B[0m\u001B[0m\n\u001B[1;32m    361\u001B[0m     \u001B[0;32mdef\u001B[0m \u001B[0mopen_store_variable\u001B[0m\u001B[0;34m(\u001B[0m\u001B[0mself\u001B[0m\u001B[0;34m,\u001B[0m \u001B[0mname\u001B[0m\u001B[0;34m,\u001B[0m \u001B[0mvar\u001B[0m\u001B[0;34m)\u001B[0m\u001B[0;34m:\u001B[0m\u001B[0;34m\u001B[0m\u001B[0;34m\u001B[0m\u001B[0m\n",
      "\u001B[0;32m~/anaconda3/lib/python3.6/site-packages/xarray/backends/file_manager.py\u001B[0m in \u001B[0;36macquire\u001B[0;34m(self)\u001B[0m\n\u001B[1;32m    141\u001B[0m                     \u001B[0mkwargs\u001B[0m \u001B[0;34m=\u001B[0m \u001B[0mkwargs\u001B[0m\u001B[0;34m.\u001B[0m\u001B[0mcopy\u001B[0m\u001B[0;34m(\u001B[0m\u001B[0;34m)\u001B[0m\u001B[0;34m\u001B[0m\u001B[0;34m\u001B[0m\u001B[0m\n\u001B[1;32m    142\u001B[0m                     \u001B[0mkwargs\u001B[0m\u001B[0;34m[\u001B[0m\u001B[0;34m'mode'\u001B[0m\u001B[0;34m]\u001B[0m \u001B[0;34m=\u001B[0m \u001B[0mself\u001B[0m\u001B[0;34m.\u001B[0m\u001B[0m_mode\u001B[0m\u001B[0;34m\u001B[0m\u001B[0;34m\u001B[0m\u001B[0m\n\u001B[0;32m--> 143\u001B[0;31m                 \u001B[0mfile\u001B[0m \u001B[0;34m=\u001B[0m \u001B[0mself\u001B[0m\u001B[0;34m.\u001B[0m\u001B[0m_opener\u001B[0m\u001B[0;34m(\u001B[0m\u001B[0;34m*\u001B[0m\u001B[0mself\u001B[0m\u001B[0;34m.\u001B[0m\u001B[0m_args\u001B[0m\u001B[0;34m,\u001B[0m \u001B[0;34m**\u001B[0m\u001B[0mkwargs\u001B[0m\u001B[0;34m)\u001B[0m\u001B[0;34m\u001B[0m\u001B[0;34m\u001B[0m\u001B[0m\n\u001B[0m\u001B[1;32m    144\u001B[0m                 \u001B[0;32mif\u001B[0m \u001B[0mself\u001B[0m\u001B[0;34m.\u001B[0m\u001B[0m_mode\u001B[0m \u001B[0;34m==\u001B[0m \u001B[0;34m'w'\u001B[0m\u001B[0;34m:\u001B[0m\u001B[0;34m\u001B[0m\u001B[0;34m\u001B[0m\u001B[0m\n\u001B[1;32m    145\u001B[0m                     \u001B[0;31m# ensure file doesn't get overriden when opened again\u001B[0m\u001B[0;34m\u001B[0m\u001B[0;34m\u001B[0m\u001B[0;34m\u001B[0m\u001B[0m\n",
      "\u001B[0;32m~/anaconda3/lib/python3.6/site-packages/xarray/backends/netCDF4_.py\u001B[0m in \u001B[0;36m_open_netcdf4_group\u001B[0;34m(filename, lock, mode, group, **kwargs)\u001B[0m\n\u001B[1;32m    245\u001B[0m     \u001B[0;32mimport\u001B[0m \u001B[0mnetCDF4\u001B[0m \u001B[0;32mas\u001B[0m \u001B[0mnc4\u001B[0m\u001B[0;34m\u001B[0m\u001B[0;34m\u001B[0m\u001B[0m\n\u001B[1;32m    246\u001B[0m \u001B[0;34m\u001B[0m\u001B[0m\n\u001B[0;32m--> 247\u001B[0;31m     \u001B[0mds\u001B[0m \u001B[0;34m=\u001B[0m \u001B[0mnc4\u001B[0m\u001B[0;34m.\u001B[0m\u001B[0mDataset\u001B[0m\u001B[0;34m(\u001B[0m\u001B[0mfilename\u001B[0m\u001B[0;34m,\u001B[0m \u001B[0mmode\u001B[0m\u001B[0;34m=\u001B[0m\u001B[0mmode\u001B[0m\u001B[0;34m,\u001B[0m \u001B[0;34m**\u001B[0m\u001B[0mkwargs\u001B[0m\u001B[0;34m)\u001B[0m\u001B[0;34m\u001B[0m\u001B[0;34m\u001B[0m\u001B[0m\n\u001B[0m\u001B[1;32m    248\u001B[0m \u001B[0;34m\u001B[0m\u001B[0m\n\u001B[1;32m    249\u001B[0m     \u001B[0;32mwith\u001B[0m \u001B[0mclose_on_error\u001B[0m\u001B[0;34m(\u001B[0m\u001B[0mds\u001B[0m\u001B[0;34m)\u001B[0m\u001B[0;34m:\u001B[0m\u001B[0;34m\u001B[0m\u001B[0;34m\u001B[0m\u001B[0m\n",
      "\u001B[0;32mnetCDF4/_netCDF4.pyx\u001B[0m in \u001B[0;36mnetCDF4._netCDF4.Dataset.__init__\u001B[0;34m()\u001B[0m\n",
      "\u001B[0;32mnetCDF4/_netCDF4.pyx\u001B[0m in \u001B[0;36mnetCDF4._netCDF4._ensure_nc_success\u001B[0;34m()\u001B[0m\n",
      "\u001B[0;31mPermissionError\u001B[0m: [Errno 13] Permission denied: b'/Users/willi/code/python/local_stuff/voodoo_quicklooks/data/20190313-20190313-20201017-174440__20201017-174440_weights_compressed.h5.nc'"
     ]
    }
   ],
   "source": [
    "\n",
    "\n",
    "\n",
    "#voodoo_xr.features.drop(('nsamples', 'nvelocity', 'nchannels'))\n",
    "#voodoo_xr.targets.drop(('nsamples', 'nvelocity', 'nchannels'))\n",
    "\n",
    "probs = voodoo_xr.voodoo_classification_probabilities.copy()\n",
    "probs['temperature'] = ( ('ts', 'rg'), voodoo_xr.temperature.copy())\n",
    "probs['pressure'] = ( ('ts', 'rg'), voodoo_xr.pressure.copy())\n",
    "probs['relhumidity'] = ( ('ts', 'rg'), voodoo_xr.pressure.copy())\n",
    "probs['relhumidity'].values = contour_q['data']\n",
    "probs['target_classification'] = ( ('ts', 'rg'), voodoo_xr.target_classification.copy())\n",
    "probs['voodoo_classification'] = ( ('ts', 'rg'), voodoo_xr.voodoo_classification.copy())\n",
    "probs['detection_status'] = ( ('ts', 'rg'), voodoo_xr.detection_status.copy())\n",
    "probs['mask'] = ( ('ts', 'rg'), voodoo_xr.mask.copy())\n",
    "probs['lwp'] = ( ('ts'), voodoo_xr.lwp.copy())\n",
    "probs.to_netcdf(f\"data/{voodoo_nc.replace('.h5.nc', '_compressed.h5.nc')}\")"
   ]
  },
  {
   "cell_type": "code",
   "execution_count": 3,
   "metadata": {},
   "outputs": [],
   "source": []
  },
  {
   "cell_type": "code",
   "execution_count": null,
   "outputs": [],
   "source": [],
   "metadata": {
    "collapsed": false,
    "pycharm": {
     "name": "#%%\n"
    }
   }
  }
 ],
 "metadata": {
  "kernelspec": {
   "display_name": "Python 3",
   "language": "python",
   "name": "python3"
  },
  "language_info": {
   "codemirror_mode": {
    "name": "ipython",
    "version": 3
   },
   "file_extension": ".py",
   "mimetype": "text/x-python",
   "name": "python",
   "nbconvert_exporter": "python",
   "pygments_lexer": "ipython3",
   "version": "3.6.7"
  }
 },
 "nbformat": 4,
 "nbformat_minor": 2
}