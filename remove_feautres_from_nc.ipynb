{
 "cells": [
  {
   "cell_type": "code",
   "execution_count": 24,
   "metadata": {},
   "outputs": [],
   "source": [
    "import xarray as xr\n",
    "\n",
    "# trained on >100 epochs of 60/600 (20181127-20190927)\n",
    "#voodoo_nc = '20190801-20190801-20201017-174440__20201017-174440_weights.h5.nc'\n",
    "voodoo_nc = '20190313-20190313-20201017-174440__20201017-174440_weights.h5.nc'\n",
    "voodoo_nc = '20190313-20190313-20201017-174440__20201017-174440_weights.h5.nc'\n"
   ]
  },
  {
   "cell_type": "code",
   "execution_count": 25,
   "metadata": {},
   "outputs": [
    {
     "name": "stdout",
     "output_type": "stream",
     "text": [
      "<xarray.Dataset>\n",
      "Dimensions:                                       (cl: 9, dt: 2882, nchannels: 6, nsamples: 188320, nvelocity: 256, rg: 292, ts: 2882)\n",
      "Coordinates:\n",
      "  * ts                                            (ts) float64 1.552e+09 ... 1.553e+09\n",
      "  * dt                                            (dt) datetime64[ns] 2019-03-13T00:00:15.000001 ... 2019-03-14T00:00:15.000001\n",
      "  * rg                                            (rg) float64 119.2 ... 1.196e+04\n",
      "  * nsamples                                      (nsamples) int64 0 ... 188319\n",
      "  * nvelocity                                     (nvelocity) int64 0 1 ... 255\n",
      "  * nchannels                                     (nchannels) int64 0 1 2 3 4 5\n",
      "  * cl                                            (cl) int64 0 1 2 3 4 5 6 7 8\n",
      "Data variables:\n",
      "    features                                      (nsamples, nvelocity, nchannels) float32 dask.array<shape=(188320, 256, 6), chunksize=(188320, 256, 6)>\n",
      "    targets                                       (nsamples) float32 dask.array<shape=(188320,), chunksize=(188320,)>\n",
      "    mask_nc                                       (ts, rg) bool dask.array<shape=(2882, 292), chunksize=(2882, 292)>\n",
      "    mask                                          (ts, rg) bool dask.array<shape=(2882, 292), chunksize=(2882, 292)>\n",
      "    temperature                                   (ts, rg) float64 dask.array<shape=(2882, 292), chunksize=(2882, 292)>\n",
      "    pressure                                      (ts, rg) float64 dask.array<shape=(2882, 292), chunksize=(2882, 292)>\n",
      "    q                                             (ts, rg) float64 dask.array<shape=(2882, 292), chunksize=(2882, 292)>\n",
      "    uwind                                         (ts, rg) float64 dask.array<shape=(2882, 292), chunksize=(2882, 292)>\n",
      "    vwind                                         (ts, rg) float64 dask.array<shape=(2882, 292), chunksize=(2882, 292)>\n",
      "    insect_prob                                   (ts, rg) float32 dask.array<shape=(2882, 292), chunksize=(2882, 292)>\n",
      "    detection_status                              (ts, rg) int32 dask.array<shape=(2882, 292), chunksize=(2882, 292)>\n",
      "    target_classification                         (ts, rg) int32 dask.array<shape=(2882, 292), chunksize=(2882, 292)>\n",
      "    Z                                             (ts, rg) float32 dask.array<shape=(2882, 292), chunksize=(2882, 292)>\n",
      "    VEL                                           (ts, rg) float32 dask.array<shape=(2882, 292), chunksize=(2882, 292)>\n",
      "    VEL_sigma                                     (ts, rg) float32 dask.array<shape=(2882, 292), chunksize=(2882, 292)>\n",
      "    width                                         (ts, rg) float32 dask.array<shape=(2882, 292), chunksize=(2882, 292)>\n",
      "    beta                                          (ts, rg) float32 dask.array<shape=(2882, 292), chunksize=(2882, 292)>\n",
      "    attbsc532                                     (ts, rg) float64 dask.array<shape=(2882, 292), chunksize=(2882, 292)>\n",
      "    depol                                         (ts, rg) float64 dask.array<shape=(2882, 292), chunksize=(2882, 292)>\n",
      "    voodoo_classification                         (ts, rg) float32 dask.array<shape=(2882, 292), chunksize=(2882, 292)>\n",
      "    voodoo_classification_post                    (ts, rg) float32 dask.array<shape=(2882, 292), chunksize=(2882, 292)>\n",
      "    voodoo_classification_probabilities           (ts, rg, cl) float32 dask.array<shape=(2882, 292, 9), chunksize=(2882, 292, 9)>\n",
      "    voodoo_classification_smoothed                (ts, rg) int64 dask.array<shape=(2882, 292), chunksize=(2882, 292)>\n",
      "    voodoo_classification_probabilities_smoothed  (ts, rg, cl) float64 dask.array<shape=(2882, 292, 9), chunksize=(2882, 292, 9)>\n",
      "    lwp                                           (ts) float32 dask.array<shape=(2882,), chunksize=(2882,)>\n",
      "    cloudnet_droplet_mask                         (ts, rg) bool dask.array<shape=(2882, 292), chunksize=(2882, 292)>\n",
      "    voodoo_droplet_mask                           (ts, rg) bool dask.array<shape=(2882, 292), chunksize=(2882, 292)>\n",
      "    llt_cloudnet_raw                              (ts) float64 dask.array<shape=(2882,), chunksize=(2882,)>\n",
      "    llt_voodoo_raw                                (ts) float64 dask.array<shape=(2882,), chunksize=(2882,)>\n",
      "    mask_proc                                     (ts, rg) bool dask.array<shape=(2882, 292), chunksize=(2882, 292)>\n",
      "    voodoo_droplet_mask_proc                      (ts, rg) bool dask.array<shape=(2882, 292), chunksize=(2882, 292)>\n",
      "    llt_voodoo_proc                               (ts) float64 dask.array<shape=(2882,), chunksize=(2882,)>\n",
      "Attributes:\n",
      "    ts_unit:         sec\n",
      "    ts_unit_long:    Unix time, seconds since Jan 1. 1979\n",
      "    dt_unit:         date\n",
      "    dt_unit_long:    Datetime format\n",
      "    rg_unit:         m\n",
      "    rg_unit_long:    Meter\n",
      "    nsamples:        Number of samples\n",
      "    nsamples_unit:   -\n",
      "    nvelocity:       Number of velocity bins\n",
      "    nvelocity_unit:  -\n",
      "    nchannels:       Number of stacked spectra\n",
      "    nchannels_unit:  -\n",
      "    cl:              Number of Cloudnet Classes\n",
      "    cl_unit:         -\n"
     ]
    }
   ],
   "source": [
    "# open the dataset using xarray\n",
    "voodoo_xr = xr.open_mfdataset(f'data/{voodoo_nc}')\n",
    "\n",
    "print(voodoo_xr)\n",
    "\n",
    "#voodoo_xr.features.drop(('nsamples', 'nvelocity', 'nchannels'))\n",
    "#voodoo_xr.targets.drop(('nsamples', 'nvelocity', 'nchannels'))\n",
    "\n",
    "probs = voodoo_xr.voodoo_classification_probabilities.copy()\n",
    "probs['temperature'] = ( ('ts', 'rg'), voodoo_xr.temperature.copy())\n",
    "probs['pressure'] = ( ('ts', 'rg'), voodoo_xr.pressure.copy())\n",
    "probs['target_classification'] = ( ('ts', 'rg'), voodoo_xr.target_classification.copy())\n",
    "probs['mask'] = ( ('ts', 'rg'), voodoo_xr.mask.copy())\n",
    "probs['lwp'] = ( ('ts'), voodoo_xr.lwp.copy())\n",
    "probs.to_netcdf(voodoo_nc.replace('.h5.nc', '_compressed.h5.nc'))"
   ]
  },
  {
   "cell_type": "code",
   "execution_count": null,
   "metadata": {},
   "outputs": [],
   "source": []
  }
 ],
 "metadata": {
  "kernelspec": {
   "display_name": "Python 3",
   "language": "python",
   "name": "python3"
  },
  "language_info": {
   "codemirror_mode": {
    "name": "ipython",
    "version": 3
   },
   "file_extension": ".py",
   "mimetype": "text/x-python",
   "name": "python",
   "nbconvert_exporter": "python",
   "pygments_lexer": "ipython3",
   "version": "3.6.7"
  }
 },
 "nbformat": 4,
 "nbformat_minor": 2
}
