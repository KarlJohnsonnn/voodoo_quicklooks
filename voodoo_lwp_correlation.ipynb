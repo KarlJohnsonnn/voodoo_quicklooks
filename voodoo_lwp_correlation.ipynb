{
 "cells": [
  {
   "cell_type": "code",
   "execution_count": null,
   "metadata": {},
   "outputs": [],
   "source": []
  },
  {
   "cell_type": "code",
   "execution_count": null,
   "metadata": {},
   "outputs": [],
   "source": [
    "import xarray as xr\n",
    "import numpy as np\n",
    "import datetime\n",
    "from scipy.ndimage import gaussian_filter\n",
    "\n",
    "from meteoSI import mod_ad\n",
    "\n",
    "%matplotlib inline\n",
    "import matplotlib.pyplot as plt\n",
    "import matplotlib.ticker as ticker\n",
    "from PlottingUtility import load_cbar_style, load_xy_style\n",
    "from Utils import find_bases_tops\n",
    "import Colormaps\n",
    "\n",
    "_FIG_SIZE = (14, 4.7)\n",
    "\n",
    "font_settings = {\n",
    "    'range_interval': [0, 6000],\n",
    "    'fig_size': [15, 10],\n",
    "    'rg_converter': True,\n",
    "    'font_size': 15,\n",
    "    'font_weight': 'normal',\n",
    "    'zlabel': '',\n",
    "}\n",
    "\n",
    "\n",
    "# trained on >100 epochs of 60/600 (20181127-20190927)\n",
    "voodoo_nc = '20190801-20190801-20201017-174440__20201017-174440_weights_compressed.h5.nc'\n",
    "#voodoo_nc = '20190313-20190313-20201017-174440__20201017-174440_weights_compressed.h5.nc'\n",
    "case = voodoo_nc[:8]\n",
    "YYYY, MM, DD = int(case[:4]), int(case[4:6]), int(case[6:8])"
   ]
  },
  {
   "cell_type": "code",
   "execution_count": null,
   "metadata": {},
   "outputs": [],
   "source": [
    "# open the dataset using xarray\n",
    "voodoo_xr = xr.open_mfdataset(f'data/{voodoo_nc}')\n",
    "\n",
    "# convert to datetime\n",
    "dt_list = [datetime.datetime.fromtimestamp(ts) for ts in voodoo_xr.ts.values]\n",
    "print(voodoo_xr)\n",
    "\n",
    "\n",
    "# look at important classes \"ice\", \"ice and supercooled droplets\", \"cloud droplets only\", and \"drizzle/rain\"\n",
    "P_mixed = voodoo_xr['voodoo_classification_probabilities'][:, :, 5].copy()\n",
    "P_droplets = voodoo_xr['voodoo_classification_probabilities'][:, :, 1].copy()\n",
    "\n",
    "# all classes containing cloud droplets\n",
    "P_allCD = P_droplets.copy()\n",
    "P_allCD.values = P_mixed.values + P_droplets.values"
   ]
  },
  {
   "cell_type": "markdown",
   "metadata": {},
   "source": [
    "# Smooth the predictions using a Gaussian filter"
   ]
  },
  {
   "cell_type": "code",
   "execution_count": null,
   "metadata": {},
   "outputs": [],
   "source": [
    "P_allCD.values = gaussian_filter(P_allCD.values, sigma=1.0)"
   ]
  },
  {
   "cell_type": "markdown",
   "metadata": {},
   "source": [
    "# calculate adiabatic liquid water path from temperature and pressure profiles\\n\",\n",
    "\n",
    "Calculate  liquid water path for cloud droplet containing pixel, if $P(\\hat{y}=1 \\wedge \\hat{y}=5) > 0.7$, for a prediction $\\hat{y} = \\mathrm{voodoo}(\\mathrm{X})$\n",
    "   "
   ]
  },
  {
   "cell_type": "code",
   "execution_count": null,
   "metadata": {},
   "outputs": [],
   "source": [
    "def calc_adLWP(liquid_mask, temperature, pressure, relhumidity, rg):\n",
    "\n",
    "    bt_lists, bt_mask = find_bases_tops(liquid_mask, rg)\n",
    "    adLWP = np.zeros(liquid_mask.shape[0])\n",
    "\n",
    "    for iT in range(liquid_mask.shape[0]):\n",
    "        \n",
    "        n_cloud_layers = len(bt_lists[iT]['idx_cb'])\n",
    "        if n_cloud_layers < 1: continue\n",
    "\n",
    "        lwc = 0\n",
    "        for iL in range(n_cloud_layers):\n",
    "            tmp_idx = np.arange(bt_lists[iT]['idx_cb'][iL], bt_lists[iT]['idx_ct'][iL], dtype=np.int)\n",
    "            if tmp_idx.size > 1:  # exclude single range gate clouds\n",
    "                # calculates adiabatic lwc\n",
    "                lwc += np.sum(mod_ad(temperature[iT, tmp_idx], pressure[iT, tmp_idx], relhumidity[iT, tmp_idx], rg[tmp_idx]))   # kg/m3\n",
    "\n",
    "        #adLWP[iT] = np.sum(lwc)  # kg/m3 --> g/m3\n",
    "        adLWP[iT] = lwc    # kg/m3 --> g/m3\n",
    "\n",
    "\n",
    "    return adLWP\n"
   ]
  },
  {
   "cell_type": "code",
   "execution_count": null,
   "metadata": {},
   "outputs": [],
   "source": [
    "algos = ['voodoo', 'cloudnet', 'voodoo_post']\n",
    "\n",
    "from Utils import postprocessor\n",
    "voodoo_xr['voodoo_classification_post'] = postprocessor(voodoo_xr)\n",
    "\n",
    "liquid_probability_threshold = 0.7\n",
    "liquid_mask = {\n",
    "    'voodoo': P_allCD.values > liquid_probability_threshold,\n",
    "    'cloudnet': (voodoo_xr.target_classification.values == 1) + (voodoo_xr.target_classification.values == 3) \\\n",
    "                + (voodoo_xr.target_classification.values == 5),#  + (voodoo_xr.target_classification.values == 7),\n",
    "    'voodoo_post': (voodoo_xr.voodoo_classification_post.values == 1) + (voodoo_xr.voodoo_classification_post.values == 3) \\\n",
    "                + (voodoo_xr.voodoo_classification_post.values == 5)# + (voodoo_xr.voodoo_classification_post.values == 7)\n",
    "}\n",
    "\n",
    "adiabatic_lwp = {\n",
    "    alg: calc_adLWP(\n",
    "        liquid_mask[alg], \n",
    "        voodoo_xr.temperature.values, \n",
    "        voodoo_xr.pressure.values, \n",
    "        voodoo_xr.relhumidity.values/100., \n",
    "        voodoo_xr.rg.values) for alg in algos\n",
    "}\n",
    "bases_tops    = {alg: find_bases_tops(liquid_mask[alg], voodoo_xr.rg.values) for alg in algos}\n"
   ]
  },
  {
   "cell_type": "code",
   "execution_count": null,
   "metadata": {},
   "outputs": [],
   "source": [
    "#print(voodoo_xr.relhumidity.values)"
   ]
  },
  {
   "cell_type": "code",
   "execution_count": null,
   "metadata": {},
   "outputs": [],
   "source": [
    "def get_bases(bases_tops):\n",
    "    dt_s, rg_s, dt1base, rg1base = [], [], [], []\n",
    "    for i in range(len(bases_tops[0])):\n",
    "        for j in range(bases_tops[0][i]['idx_cb'].size):\n",
    "            if bases_tops[0][i]['width'][j] > 150.:\n",
    "                dt_s.append(dt_list[i])\n",
    "                rg_s.append(bases_tops[0][i]['val_cb'][j]/1000.)\n",
    "                if j == 0: \n",
    "                    dt1base.append(dt_list[i])\n",
    "                    rg1base.append(bases_tops[0][i]['val_cb'][0]/1000.)\n",
    "    return {'all': [dt_s, rg_s], 'first': [dt1base, rg1base]}\n",
    "\n",
    "bases = {alg: get_bases(bases_tops[alg]) for alg in algos}"
   ]
  },
  {
   "cell_type": "markdown",
   "metadata": {},
   "source": [
    "# plot adiabatic lwp / MWR lwp and probability for cloud droplets\n",
    "\n"
   ]
  },
  {
   "cell_type": "code",
   "execution_count": null,
   "metadata": {},
   "outputs": [],
   "source": [
    "box_pts = 20\n",
    "print(f'smooth {box_pts} time steps or {box_pts*30} [sec]')\n",
    "\n",
    "box = np.ones(box_pts) / box_pts\n",
    "adiabatic_lwp['mwr'] = voodoo_xr.lwp.values\n",
    "adiabatic_lwp['mwr_s'] = np.convolve(voodoo_xr.lwp.values, box, mode='same')\n",
    "adiabatic_lwp['voodoo_s'] = np.convolve(adiabatic_lwp['voodoo'], box, mode='same')\n",
    "adiabatic_lwp['voodoo_post_s'] = np.convolve(adiabatic_lwp['voodoo_post'], box, mode='same')\n",
    "adiabatic_lwp['cloudnet_s'] = np.convolve(adiabatic_lwp['cloudnet'], box, mode='same')\n",
    "\n",
    "idk_factor = 8\n",
    "lw = 2\n",
    "al = 0.9\n",
    "\n",
    "\n",
    "fig, ax = plt.subplots(nrows=3, figsize=(20, 12))\n",
    "line = ax[0].plot(dt_list, adiabatic_lwp['voodoo']*idk_factor, color=Colormaps.cloudnet_colors[10], linewidth=lw, alpha=al, label='adiabatic voodoo')\n",
    "line = ax[0].plot(dt_list, adiabatic_lwp['cloudnet']*idk_factor, color=Colormaps.cloudnet_colors[6], linewidth=lw, alpha=al, label='adiabatic cloudnet')\n",
    "line = ax[0].plot(dt_list, adiabatic_lwp['voodoo_post']*idk_factor, color=Colormaps.cloudnet_colors[7], linewidth=lw, alpha=al, label='adiabatic voodoo_post')\n",
    "line = ax[0].bar(dt_list, adiabatic_lwp['mwr'], width=0.001, color=Colormaps.cloudnet_colors[2], label='MWR')\n",
    "load_xy_style(ax[0], ylabel='LWP [g m-2]')\n",
    "ax[0].set_xlim([dt_list[0], dt_list[-1]])\n",
    "ax[0].legend()\n",
    "\n",
    "line = ax[1].plot(dt_list, adiabatic_lwp['voodoo_s']*idk_factor, color=Colormaps.cloudnet_colors[10], linewidth=lw, alpha=al, label='adiabatic smoothed voodoo')\n",
    "line = ax[1].plot(dt_list, adiabatic_lwp['cloudnet_s']*idk_factor, color=Colormaps.cloudnet_colors[6], linewidth=lw, alpha=al, label='adiabatic smoothed cloudnet')\n",
    "line = ax[1].plot(dt_list, adiabatic_lwp['voodoo_post_s']*idk_factor, color=Colormaps.cloudnet_colors[7], linewidth=lw, alpha=al, label='adiabatic voodoo_post')\n",
    "line = ax[1].bar(dt_list, adiabatic_lwp['mwr_s'], width=0.001, color=Colormaps.cloudnet_colors[2], label='MWR smoothed')\n",
    "load_xy_style(ax[1], ylabel='LWP [g m-2]')\n",
    "ax[1].set_xlim([dt_list[0], dt_list[-1]])\n",
    "ax[1].legend()\n",
    "\n",
    "P_allCD.values = np.ma.masked_where(voodoo_xr.mask, P_allCD)\n",
    "pmesh = ax[2].pcolormesh(dt_list, voodoo_xr.rg.values/1000., P_allCD.values.T, cmap='viridis', vmin=liquid_probability_threshold, vmax=1)\n",
    "cbar = fig.colorbar(pmesh, ax=ax, pad=0.025, shrink=0.3, anchor=(0.0, 0.0))\n",
    "ax[2].set_ylim([0, 6])\n",
    "ax[2].set_xlim([dt_list[0], dt_list[-1]])\n",
    "load_xy_style(ax[2], ylabel='Height [km]')\n",
    "load_cbar_style(cbar, cbar_label='Probability of liquid cloud droplets')\n",
    "ax[2].scatter(bases['voodoo']['all'][0], bases['voodoo']['all'][1], c='red', s=15, alpha=al, edgecolor='none')\n",
    "ax[2].scatter(bases['cloudnet']['all'][0], bases['cloudnet']['all'][1], c=Colormaps.cloudnet_colors[6], s=10, alpha=al, edgecolor='none')\n",
    "fig.savefig(f'plots/{case}-liquid-cloud-doplet-probability.png', dpi=450)\n"
   ]
  },
  {
   "cell_type": "code",
   "execution_count": null,
   "metadata": {},
   "outputs": [],
   "source": [
    "\n",
    "from Utils import get_cloud_base_from_liquid_mask, corr_\n",
    "\n",
    "cb_v = get_cloud_base_from_liquid_mask(liquid_mask['voodoo'], voodoo_xr.rg.values)\n",
    "cb_c = get_cloud_base_from_liquid_mask(liquid_mask['cloudnet'], voodoo_xr.rg.values)\n",
    "\n",
    "joint_availability = (cb_v > 0.0) * (cb_c > 0.0)\n",
    "\n",
    "print(f'correlation ceilometer cbh vs voodoo cbh =  {corr_(cb_v[joint_availability], cb_c[joint_availability]):.2f}')\n"
   ]
  },
  {
   "cell_type": "code",
   "execution_count": null,
   "metadata": {},
   "outputs": [],
   "source": [
    "import pandas as pd\n",
    "from Utils import corr_\n",
    "\n",
    "correlation = [[corr_(adiabatic_lwp['mwr'], adiabatic_lwp['voodoo']),   corr_(adiabatic_lwp['mwr_s'], adiabatic_lwp['voodoo_s'])],\n",
    "               [corr_(adiabatic_lwp['mwr'], adiabatic_lwp['cloudnet']), corr_(adiabatic_lwp['mwr_s'], adiabatic_lwp['cloudnet_s'])],\n",
    "               [corr_(adiabatic_lwp['mwr'], adiabatic_lwp['voodoo_post']), corr_(adiabatic_lwp['mwr_s'], adiabatic_lwp['voodoo_post_s'])]]\n",
    "\n",
    "df_corr = pd.DataFrame(correlation, columns = ['lwp_raw_corr' , 'lwp_smoothed_corr'], index=['voodoo', 'cloudnet', 'voodoo_post'])\n",
    "\n",
    "print('Correlation MWR-LWP with adiabatic LWP from liquid pixel mask\\n')\n",
    "print(df_corr)\n",
    "\n",
    "print(f'\\nmaximum liquid water path value = {adiabatic_lwp[\"voodoo\"].max():.2f} [g m-2]') \n"
   ]
  },
  {
   "cell_type": "code",
   "execution_count": null,
   "metadata": {},
   "outputs": [],
   "source": [
    " "
   ]
  },
  {
   "cell_type": "code",
   "execution_count": null,
   "metadata": {},
   "outputs": [],
   "source": []
  },
  {
   "cell_type": "code",
   "execution_count": null,
   "metadata": {
    "collapsed": false,
    "pycharm": {
     "name": "#%%\n"
    }
   },
   "outputs": [],
   "source": []
  }
 ],
 "metadata": {
  "kernelspec": {
   "display_name": "Python 3",
   "language": "python",
   "name": "python3"
  },
  "language_info": {
   "codemirror_mode": {
    "name": "ipython",
    "version": 3
   },
   "file_extension": ".py",
   "mimetype": "text/x-python",
   "name": "python",
   "nbconvert_exporter": "python",
   "pygments_lexer": "ipython3",
   "version": "3.6.7"
  }
 },
 "nbformat": 4,
 "nbformat_minor": 2
}
