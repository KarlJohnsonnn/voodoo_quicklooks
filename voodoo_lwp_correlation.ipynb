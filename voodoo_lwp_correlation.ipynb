{
 "cells": [
  {
   "cell_type": "code",
   "execution_count": 8,
   "metadata": {},
   "outputs": [],
   "source": [
    "import xarray as xr\n",
    "import numpy as np\n",
    "import datetime\n",
    "from scipy.ndimage import gaussian_filter\n",
    "\n",
    "from meteoSI import mod_ad\n",
    "\n",
    "%matplotlib inline\n",
    "import matplotlib.pyplot as plt\n",
    "import matplotlib.ticker as ticker\n",
    "from PlottingUtility import load_cbar_style, load_xy_style\n",
    "from Utils import find_bases_tops\n",
    "import Colormaps\n",
    "\n",
    "_FIG_SIZE = (14, 4.7)\n",
    "\n",
    "font_settings = {\n",
    "    'range_interval': [0, 6000],\n",
    "    'fig_size': [15, 10],\n",
    "    'rg_converter': True,\n",
    "    'font_size': 15,\n",
    "    'font_weight': 'normal',\n",
    "    'zlabel': '',\n",
    "}\n",
    "\n",
    "\n",
    "# trained on >100 epochs of 60/600 (20181127-20190927)\n",
    "#voodoo_nc = '20190801-20190801-20201017-174440__20201017-174440_weights_compressed.h5.nc'\n",
    "voodoo_nc = '20190313-20190313-20201017-174440__20201017-174440_weights_compressed.h5.nc'\n",
    "case = voodoo_nc[:8]\n",
    "YYYY, MM, DD = int(case[:4]), int(case[4:6]), int(case[6:8]) \n"
   ]
  },
  {
   "cell_type": "code",
   "execution_count": 9,
   "metadata": {},
   "outputs": [
    {
     "name": "stdout",
     "output_type": "stream",
     "text": [
      "<xarray.Dataset>\n",
      "Dimensions:                              (cl: 9, rg: 292, ts: 2882)\n",
      "Coordinates:\n",
      "  * ts                                   (ts) float64 1.552e+09 ... 1.553e+09\n",
      "  * rg                                   (rg) float64 119.2 149.1 ... 1.196e+04\n",
      "  * cl                                   (cl) int64 0 1 2 3 4 5 6 7 8\n",
      "    temperature                          (ts, rg) float64 dask.array<shape=(2882, 292), chunksize=(2882, 292)>\n",
      "    pressure                             (ts, rg) float64 dask.array<shape=(2882, 292), chunksize=(2882, 292)>\n",
      "    target_classification                (ts, rg) int32 dask.array<shape=(2882, 292), chunksize=(2882, 292)>\n",
      "    mask                                 (ts, rg) bool dask.array<shape=(2882, 292), chunksize=(2882, 292)>\n",
      "    lwp                                  (ts) float32 dask.array<shape=(2882,), chunksize=(2882,)>\n",
      "Data variables:\n",
      "    voodoo_classification_probabilities  (ts, rg, cl) float32 dask.array<shape=(2882, 292, 9), chunksize=(2882, 292, 9)>\n"
     ]
    }
   ],
   "source": [
    "# open the dataset using xarray\n",
    "voodoo_xr = xr.open_mfdataset(f'data/{voodoo_nc}')\n",
    "\n",
    "# convert to datetime\n",
    "dt_list = [datetime.datetime.fromtimestamp(ts) for ts in voodoo_xr.ts.values]\n",
    "print(voodoo_xr)\n",
    "\n",
    "\n",
    "# look at important classes \"ice\", \"ice and supercooled droplets\", \"cloud droplets only\", and \"drizzle/rain\"\n",
    "P_mixed = voodoo_xr['voodoo_classification_probabilities'][:, :, 5].copy()\n",
    "P_droplets = voodoo_xr['voodoo_classification_probabilities'][:, :, 1].copy()\n",
    "\n",
    "# all classes containing cloud droplets\n",
    "P_allCD = P_droplets.copy()\n",
    "P_allCD.values = P_mixed.values + P_droplets.values\n"
   ]
  },
  {
   "cell_type": "markdown",
   "metadata": {},
   "source": [
    "# Smooth the predictions using a Gaussian filter\n"
   ]
  },
  {
   "cell_type": "code",
   "execution_count": 10,
   "metadata": {},
   "outputs": [],
   "source": [
    "\n",
    "P_allCD.values = gaussian_filter(P_allCD.values, sigma=1.0)\n"
   ]
  },
  {
   "cell_type": "markdown",
   "metadata": {},
   "source": [
    "# calculate adiabatic liquid water path from temperature and pressure profiles\n",
    "calculate  liquid water path for cloud droplet containing pixel, if $P(\\hat{y}=1 \\wedge \\hat{y}=5) > 0.7$, for a prediction $\\hat{y} = \\mathrm{voodoo}(\\mathrm{X})$"
   ]
  },
  {
   "cell_type": "code",
   "execution_count": 11,
   "metadata": {},
   "outputs": [],
   "source": [
    "                            \n",
    "def calc_adLWP(liquid_mask, temperature, pressure, rg):\n",
    "\n",
    "    bt_lists, bt_mask = find_bases_tops(liquid_mask, rg)\n",
    "    adLWP = np.zeros(liquid_mask.shape[0])\n",
    "\n",
    "    for iT in range(liquid_mask.shape[0]):\n",
    "        \n",
    "        n_cloud_layers = len(bt_lists[iT]['idx_cb'])\n",
    "        if n_cloud_layers < 1: continue\n",
    "\n",
    "        lwc = 0\n",
    "        for iL in range(n_cloud_layers):\n",
    "            tmp_idx = np.arange(bt_lists[iT]['idx_cb'][iL], bt_lists[iT]['idx_ct'][iL], dtype=np.int)\n",
    "            if tmp_idx.size > 1:  # exclude single range gate clouds\n",
    "                # calculates adiabatic lwc\n",
    "                lwc += np.sum(mod_ad(temperature[iT, tmp_idx], pressure[iT, tmp_idx], rg[tmp_idx]))   # kg/m3\n",
    "\n",
    "        adLWP[iT] = np.sum(lwc * 1000)    # kg/m3 --> g/m3\n",
    "\n",
    "    return adLWP\n"
   ]
  },
  {
   "cell_type": "code",
   "execution_count": 16,
   "metadata": {},
   "outputs": [
    {
     "name": "stderr",
     "output_type": "stream",
     "text": [
      "/Users/willi/anaconda3/lib/python3.6/site-packages/ipykernel_launcher.py:2: RuntimeWarning: invalid value encountered in greater\n",
      "  \n"
     ]
    }
   ],
   "source": [
    "liquid_probability_threshold = 0.6\n",
    "liquid_mask = P_allCD.values > liquid_probability_threshold\n",
    "\n",
    "LWP = calc_adLWP(liquid_mask, voodoo_xr.temperature.values, voodoo_xr.pressure.values, voodoo_xr.rg.values)\n"
   ]
  },
  {
   "cell_type": "markdown",
   "metadata": {},
   "source": [
    "# plot adiabatic lwp / MWR lwp and probability for cloud droplets\n"
   ]
  },
  {
   "cell_type": "code",
   "execution_count": null,
   "metadata": {},
   "outputs": [],
   "source": [
    "idk_factor = 50\n",
    "\n",
    "\n",
    "box_pts = 5\n",
    "\n",
    "box = np.ones(box_pts) / box_pts\n",
    "X_smoothed = np.convolve(voodoo_xr.lwp.values, box, mode='same')\n",
    "Y_smoothed = np.convolve(LWP, box, mode='same')\n",
    "\n",
    "fig, ax = plt.subplots(nrows=3, figsize=(15.05, 15))\n",
    "line = ax[0].plot(dt_list, LWP*idk_factor, label='adiabatic')\n",
    "line = ax[0].plot(dt_list, voodoo_xr.lwp.values, label='MWR')\n",
    "load_xy_style(ax[0], ylabel='LWP [g m-2]')\n",
    "ax[0].set_xlim([dt_list[0], dt_list[-1]])\n",
    "ax[0].legend()\n",
    "\n",
    "line = ax[1].plot(dt_list, Y_smoothed*idk_factor, label='adiabatic smoothed')\n",
    "line = ax[1].plot(dt_list, X_smoothed, label='MWR smoothed')\n",
    "load_xy_style(ax[1], ylabel='LWP [g m-2]')\n",
    "ax[1].set_xlim([dt_list[0], dt_list[-1]])\n",
    "ax[1].legend()\n",
    "\n",
    "P_allCD.values = np.ma.masked_where(voodoo_xr.mask, P_allCD)\n",
    "pmesh = ax[2].pcolormesh(dt_list, voodoo_xr.rg.values/1000., P_allCD.values.T, cmap='viridis', vmin=liquid_probability_threshold, vmax=1)\n",
    "cbar = fig.colorbar(pmesh, ax=ax, pad=0.01, shrink=0.3, anchor=(0.0, 0.0))\n",
    "ax[2].set_ylim([0, 10])\n",
    "load_xy_style(ax[2], ylabel='Height [km]')\n",
    "load_cbar_style(cbar, cbar_label='Probability of liquid cloud droplets')\n",
    "fig.savefig(f'plots/{case}-liquid-cloud-doplet-probability.png', dpi=450)\n"
   ]
  },
  {
   "cell_type": "code",
   "execution_count": 36,
   "metadata": {},
   "outputs": [
    {
     "name": "stdout",
     "output_type": "stream",
     "text": [
      "      correlation raw prediction = 0.76\n",
      "correlation smoothed predicitons = 0.81\n",
      " maximum liquid water path value = 14.11 [g m-2]\n"
     ]
    }
   ],
   "source": [
    "\n",
    "corr = np.ma.corrcoef(np.ma.masked_less_equal(voodoo_xr.lwp.values, 0.0), np.ma.masked_less_equal(LWP, 0.0))[0, 1]\n",
    "corr_smoothed = np.ma.corrcoef(np.ma.masked_less_equal(X_smoothed, 0.0), np.ma.masked_less_equal(Y_smoothed, 0.0))[0, 1]\n",
    "\n",
    "print(f'      correlation raw prediction = {corr:.2f}')\n",
    "print(f'correlation smoothed predicitons = {corr_smoothed:.2f}')\n",
    "print(f' maximum liquid water path value = {LWP.max():.2f} [g m-2]') \n"
   ]
  },
  {
   "cell_type": "code",
   "execution_count": null,
   "metadata": {},
   "outputs": [],
   "source": []
  },
  {
   "cell_type": "code",
   "execution_count": null,
   "metadata": {},
   "outputs": [],
   "source": []
  }
 ],
 "metadata": {
  "kernelspec": {
   "display_name": "Python 3",
   "language": "python",
   "name": "python3"
  },
  "language_info": {
   "codemirror_mode": {
    "name": "ipython",
    "version": 3
   },
   "file_extension": ".py",
   "mimetype": "text/x-python",
   "name": "python",
   "nbconvert_exporter": "python",
   "pygments_lexer": "ipython3",
   "version": "3.6.7"
  }
 },
 "nbformat": 4,
 "nbformat_minor": 2
}
